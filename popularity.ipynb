{
 "cells": [
  {
   "cell_type": "code",
   "execution_count": 61,
   "metadata": {
    "collapsed": false
   },
   "outputs": [],
   "source": [
    "import sys\n",
    "import os\n",
    "from preproc import get_list\n",
    "import matplotlib.pyplot as plt\n",
    "\n"
   ]
  },
  {
   "cell_type": "markdown",
   "metadata": {},
   "source": [
    "##**load data**"
   ]
  },
  {
   "cell_type": "code",
   "execution_count": null,
   "metadata": {
    "collapsed": false
   },
   "outputs": [],
   "source": [
    "bigram = sc.parallelize(get_list())\n",
    "topic_list = sorted(bigram.map(lambda x:x[0]).distinct().collect())\n",
    "number_of_topic=len(topic_list)\n",
    "print number_of_topic"
   ]
  },
  {
   "cell_type": "markdown",
   "metadata": {},
   "source": [
    "##**compute match divide by volume**"
   ]
  },
  {
   "cell_type": "code",
   "execution_count": null,
   "metadata": {
    "collapsed": false
   },
   "outputs": [],
   "source": [
    "def match_divide_by_volume(bigram):\n",
    "    new_bigram = bigram.map(lambda x:((x[0],x[2]),(x[3],x[4])))\n",
    "    reduced_bigram = new_bigram.reduceByKey(lambda a,b:map(sum,zip(a,b)))\n",
    "    mdbv = reduced_bigram.map(lambda x:(x[0],float(x[1][0])/x[1][1]))\n",
    "    return mdbv\n",
    "\n",
    "mdbv = match_divide_by_volume(bigram)\n",
    "\n",
    "top_15=mdbv.takeOrdered(15,lambda x:-x[1])\n",
    "print top_15"
   ]
  },
  {
   "cell_type": "markdown",
   "metadata": {},
   "source": [
    "##**get volume over all years**"
   ]
  },
  {
   "cell_type": "code",
   "execution_count": null,
   "metadata": {
    "collapsed": false,
    "scrolled": true
   },
   "outputs": [],
   "source": [
    "def volume_over_all_years(bigram):\n",
    "    new_bigram = bigram.map(lambda x:((x[0],x[2]),x[4]))\n",
    "    voay = new_bigram.reduceByKey(lambda a,b:a+b)\n",
    "    return voay\n",
    "\n",
    "voay = volume_over_all_years(bigram)\n",
    "\n",
    "print top_15\n"
   ]
  },
  {
   "cell_type": "markdown",
   "metadata": {},
   "source": [
    "##**get match over all years**"
   ]
  },
  {
   "cell_type": "code",
   "execution_count": null,
   "metadata": {
    "collapsed": false
   },
   "outputs": [],
   "source": [
    "def match_over_all_years(bigram):\n",
    "    new_bigram = bigram.map(lambda x:((x[0],x[2]),x[3]))\n",
    "    moay = new_bigram.reduceByKey(lambda a,b:a+b)\n",
    "    return moay\n",
    "moay = match_over_all_years(bigram)\n",
    "top_15=moay.takeOrdered(15,lambda x:-x[1])\n",
    "print top_15\n"
   ]
  },
  {
   "cell_type": "markdown",
   "metadata": {},
   "source": [
    "##**plot**"
   ]
  },
  {
   "cell_type": "code",
   "execution_count": null,
   "metadata": {
    "collapsed": false,
    "scrolled": true
   },
   "outputs": [],
   "source": [
    "for i in range (0,number_of_topic):\n",
    "    topic_v=voay.filter(lambda x:x[0][0]==topic_list[i])\n",
    "    topic_m=moay.filter(lambda x:x[0][0]==topic_list[i])\n",
    "    topic_mv=mdbv.filter(lambda x:x[0][0]==topic_list[i])\n",
    "    count=topic_v.count()\n",
    "    ordered_v=topic_v.sortBy(lambda x:x[0][1]).collect()\n",
    "    ordered_m=topic_m.sortBy(lambda x:x[0][1]).collect()\n",
    "    ordered_mv=topic_mv.sortBy(lambda x:x[0][1]).collect()\n",
    "\n",
    "    year = [ordered_v[i][0][1] for i in range (0,count)]\n",
    "    match = [ordered_m[i][1] for i in range (0,count)]\n",
    "    volume = [ordered_v[i][1] for i in range (0,count)]\n",
    "    match_db_volume = [ordered_mv[i][1] for i in range (0,count)]\n",
    "    \n",
    "    \n",
    "    fig=plt.figure()\n",
    "    plt.plot(year,match)\n",
    "    plt.plot(year,volume)\n",
    "    plt.legend(['Match','Volume'])\n",
    "    plt.xlabel('year')\n",
    "    plt.ylabel('number')\n",
    "    plt.show()\n",
    "    \n",
    "    plt.plot(year,match_db_volume)\n",
    "    plt.xlabel('year')\n",
    "    plt.ylabel('match divided by volume')\n",
    "    plt.show()"
   ]
  },
  {
   "cell_type": "code",
   "execution_count": null,
   "metadata": {
    "collapsed": true
   },
   "outputs": [],
   "source": []
  }
 ],
 "metadata": {
  "kernelspec": {
   "display_name": "Python 2",
   "language": "python",
   "name": "python2"
  },
  "language_info": {
   "codemirror_mode": {
    "name": "ipython",
    "version": 2
   },
   "file_extension": ".py",
   "mimetype": "text/x-python",
   "name": "python",
   "nbconvert_exporter": "python",
   "pygments_lexer": "ipython2",
   "version": "2.7.6"
  }
 },
 "nbformat": 4,
 "nbformat_minor": 0
}

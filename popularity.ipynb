{
 "cells": [
  {
   "cell_type": "code",
   "execution_count": null,
   "metadata": {
    "collapsed": true
   },
   "outputs": [],
   "source": [
    "import sys\n",
    "import os\n",
    "from preproc import get_list"
   ]
  },
  {
   "cell_type": "markdown",
   "metadata": {},
   "source": [
    "##**load data**"
   ]
  },
  {
   "cell_type": "code",
   "execution_count": 40,
   "metadata": {
    "collapsed": false
   },
   "outputs": [
    {
     "name": "stdout",
     "output_type": "stream",
     "text": [
      "Topic: name1. Tag: 0,0. Year: 2008. Page count: 3. Volume count: 3\n",
      "Topic: name1. Tag: 0,0. Year: 2010. Page count: 3. Volume count: 1\n",
      "Topic: name1. Tag: 0,0. Year: 2010. Page count: 4. Volume count: 1\n",
      "Topic: name2. Tag: 0,0. Year: 2006. Page count: 2. Volume count: 1\n",
      "Topic: name2. Tag: 0,0. Year: 2015. Page count: 1. Volume count: 1\n"
     ]
    }
   ],
   "source": [
    "bigram = sc.parallelize(get_list())\n"
   ]
  },
  {
   "cell_type": "markdown",
   "metadata": {},
   "source": [
    "##**compute page divided by volume**"
   ]
  },
  {
   "cell_type": "code",
   "execution_count": 43,
   "metadata": {
    "collapsed": false
   },
   "outputs": [
    {
     "name": "stdout",
     "output_type": "stream",
     "text": [
      "[(('name2', 2015), 1.0), (('name1', 2008), 1.0), (('name2', 2006), 2.0), (('name1', 2010), 3.5)]\n"
     ]
    }
   ],
   "source": [
    "def page_divided_by_volume(bigram):\n",
    "    new_bigram = bigram.map(lambda x:((x[0],x[2]),(x[3],x[4])))\n",
    "    reduced_bigram = new_bigram.reduceByKey(lambda a,b:map(sum,zip(a,b)))\n",
    "    pdbv = reduced_bigram.map(lambda x:(x[0],float(x[1][0])/x[1][1]))\n",
    "    return pdbv.collect()\n",
    "\n",
    "pdbv = page_divided_by_volume(bigram)\n",
    "top_15=pdbv.takeOrdered(15,lambda x:-x[1])\n",
    "print top_15"
   ]
  },
  {
   "cell_type": "markdown",
   "metadata": {},
   "source": [
    "##**get volume over all years**"
   ]
  },
  {
   "cell_type": "code",
   "execution_count": 44,
   "metadata": {
    "collapsed": false
   },
   "outputs": [
    {
     "name": "stdout",
     "output_type": "stream",
     "text": [
      "[(('name2', 2015), 1), (('name1', 2008), 3), (('name2', 2006), 1), (('name1', 2010), 2)]\n"
     ]
    }
   ],
   "source": [
    "def volume_over_all_years(bigram):\n",
    "    new_bigram = bigram.map(lambda x:((x[0],x[2]),x[4]))\n",
    "    voay = new_bigram.reduceByKey(lambda a,b:a+b)\n",
    "    return voay.collect()\n",
    "\n",
    "voay = volume_over_all_years(bigram)\n",
    "print voay"
   ]
  },
  {
   "cell_type": "markdown",
   "metadata": {},
   "source": [
    "##**get page over all years**"
   ]
  },
  {
   "cell_type": "code",
   "execution_count": 45,
   "metadata": {
    "collapsed": false
   },
   "outputs": [
    {
     "name": "stdout",
     "output_type": "stream",
     "text": [
      "[(('name2', 2015), 1), (('name1', 2008), 3), (('name2', 2006), 2), (('name1', 2010), 7)]\n"
     ]
    }
   ],
   "source": [
    "def page_over_all_years(bigram):\n",
    "    new_bigram = bigram.map(lambda x:((x[0],x[2]),x[3]))\n",
    "    poay = new_bigram.reduceByKey(lambda a,b:a+b)\n",
    "    return poay.collect()\n",
    "poay = page_over_all_years(bigram)\n",
    "print poay"
   ]
  },
  {
   "cell_type": "code",
   "execution_count": null,
   "metadata": {
    "collapsed": true
   },
   "outputs": [],
   "source": []
  }
 ],
 "metadata": {
  "kernelspec": {
   "display_name": "Python 2",
   "language": "python",
   "name": "python2"
  },
  "language_info": {
   "codemirror_mode": {
    "name": "ipython",
    "version": 2
   },
   "file_extension": ".py",
   "mimetype": "text/x-python",
   "name": "python",
   "nbconvert_exporter": "python",
   "pygments_lexer": "ipython2",
   "version": "2.7.6"
  }
 },
 "nbformat": 4,
 "nbformat_minor": 0
}

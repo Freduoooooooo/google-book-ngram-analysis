{
 "cells": [
  {
   "cell_type": "markdown",
   "metadata": {},
   "source": [
    "# Trend Comparison\n",
    "\n",
    "This notebook analyzes similarity in trends between pairs of topics."
   ]
  },
  {
   "cell_type": "code",
   "execution_count": 1,
   "metadata": {
    "collapsed": true
   },
   "outputs": [],
   "source": [
    "import sys\n",
    "import os\n",
    "import pyspark\n",
    "import math\n",
    "from operator import add"
   ]
  },
  {
   "cell_type": "markdown",
   "metadata": {},
   "source": [
    "## Load Dataset"
   ]
  },
  {
   "cell_type": "code",
   "execution_count": 2,
   "metadata": {
    "collapsed": false
   },
   "outputs": [
    {
     "name": "stdout",
     "output_type": "stream",
     "text": [
      "Topic: amber alert. Tag: n,n. Year: 1987. Page count: 1. Volume count: 1\n",
      "Topic: amber alert. Tag: n,n. Year: 1990. Page count: 1. Volume count: 1\n",
      "Topic: amber alert. Tag: n,n. Year: 1999. Page count: 1. Volume count: 1\n",
      "Topic: amber alert. Tag: n,n. Year: 2001. Page count: 1. Volume count: 1\n",
      "Topic: amber alert. Tag: n,n. Year: 2003. Page count: 2. Volume count: 2\n",
      "Topic: amber alert. Tag: n,n. Year: 2005. Page count: 16. Volume count: 12\n",
      "Topic: amber alert. Tag: n,n. Year: 2006. Page count: 14. Volume count: 13\n",
      "Topic: amber alert. Tag: n,n. Year: 2007. Page count: 12. Volume count: 10\n",
      "Topic: amber alert. Tag: n,n. Year: 2008. Page count: 11. Volume count: 11\n",
      "Topic: amber alert. Tag: n,n. Year: 1987. Page count: 1. Volume count: 1\n"
     ]
    }
   ],
   "source": [
    "import preproc as pre\n",
    "\n",
    "dataRDD = sc.parallelize(pre.get_list())\n",
    "\n",
    "for line in dataRDD.take(10):\n",
    "    print 'Topic: {}. Tag: {},{}. Year: {}. Page count: {}. Volume count: {}'.format(\n",
    "        line[0], line[1][0], line[1][1], line[2], line[3], line[4])"
   ]
  },
  {
   "cell_type": "markdown",
   "metadata": {},
   "source": [
    "## Volume Frequency over Years"
   ]
  },
  {
   "cell_type": "code",
   "execution_count": 3,
   "metadata": {
    "collapsed": false
   },
   "outputs": [
    {
     "name": "stdout",
     "output_type": "stream",
     "text": [
      "[((u'amplitude modulation', 1996), 5813), ((u'distributed system', 1918), 1892), ((u'information theory', 1930), 8), ((u'college education', 1826), 20), ((u'nuclear weapon', 1994), 33881)]\n"
     ]
    }
   ],
   "source": [
    "def volume_freq(dataRDD):\n",
    "    topic_yr_to_nvol = (dataRDD\n",
    "                        .map(lambda x: ((x[0], x[2]), x[4]))\n",
    "                        .reduceByKey(add)\n",
    "                       )\n",
    "    return topic_yr_to_nvol\n",
    "\n",
    "volFreqRDD = volume_freq(dataRDD)\n",
    "print volFreqRDD.take(5)"
   ]
  },
  {
   "cell_type": "code",
   "execution_count": 4,
   "metadata": {
    "collapsed": false
   },
   "outputs": [
    {
     "name": "stdout",
     "output_type": "stream",
     "text": [
      "[(u'communist party', {1777: 4, 1817: 4, 1827: 4, 1838: 6, 1839: 8, 1846: 4, 1848: 4, 1849: 12, 1851: 8, 1854: 28, 1863: 12, 1865: 4, 1868: 4, 1869: 4, 1870: 38, 1871: 32, 1872: 24, 1873: 8, 1874: 8, 1875: 28, 1876: 12, 1877: 32, 1878: 32, 1879: 32, 1880: 40, 1881: 44, 1882: 8, 1883: 56, 1884: 48, 1885: 28, 1886: 8, 1887: 16, 1888: 12, 1889: 4, 1890: 24, 1891: 100, 1892: 72, 1893: 70, 1894: 96, 1895: 32, 1896: 36, 1897: 12, 1898: 52, 1899: 76, 1900: 78, 1901: 90, 1902: 56, 1903: 60, 1904: 76, 1905: 46, 1906: 128, 1907: 104, 1908: 78, 1909: 100, 1910: 48, 1911: 96, 1912: 64, 1913: 56, 1914: 90, 1915: 62, 1916: 58, 1917: 96, 1918: 266, 1919: 482, 1920: 1288, 1921: 1431, 1922: 1388, 1923: 1061, 1924: 1198, 1925: 1035, 1926: 1204, 1927: 1630, 1928: 1787, 1929: 1798, 1930: 1943, 1931: 2745, 1932: 2839, 1933: 2753, 1934: 4107, 1935: 4303, 1936: 3928, 1937: 5004, 1938: 5271, 1939: 5349, 1940: 5106, 1941: 4452, 1942: 4380, 1943: 4694, 1944: 4476, 1945: 5020, 1946: 6183, 1947: 7755, 1948: 7726, 1949: 8827, 1950: 9413, 1951: 9544, 1952: 9940, 1953: 10101, 1954: 10457, 1955: 10927, 1956: 11647, 1957: 12450, 1958: 13071, 1959: 14295, 1960: 16667, 1961: 18518, 1962: 20295, 1963: 22750, 1964: 23258, 1965: 26152, 1966: 27687, 1967: 30860, 1968: 30615, 1969: 30702, 1970: 31348, 1971: 31711, 1972: 33175, 1973: 31234, 1974: 30883, 1975: 31076, 1976: 30355, 1977: 31410, 1978: 33066, 1979: 34080, 1980: 33391, 1981: 32282, 1982: 34915, 1983: 33126, 1984: 37493, 1985: 37169, 1986: 41367, 1987: 41222, 1988: 44062, 1989: 47359, 1990: 50483, 1991: 47546, 1992: 49657, 1993: 49605, 1994: 50600, 1995: 50537, 1996: 52625, 1997: 52588, 1998: 55793, 1999: 57869, 2000: 64135, 2001: 61701, 2002: 68155, 2003: 68713, 2004: 69149, 2005: 71131, 2006: 69813, 2007: 75216, 2008: 66165, 1515: 6}), (u'object model', {1923: 2, 1927: 6, 1931: 4, 1934: 2, 2000: 5448, 1938: 10, 1939: 4, 1941: 2, 1945: 4, 1946: 6, 1949: 2, 1950: 4, 1956: 4, 1957: 4, 1958: 2, 1959: 2, 1960: 4, 1961: 6, 1962: 20, 1963: 10, 1964: 8, 1965: 4, 1966: 14, 1967: 29, 1968: 44, 1969: 18, 1970: 26, 1971: 24, 1972: 45, 1973: 55, 1974: 44, 1975: 54, 1976: 74, 1977: 53, 1978: 91, 1979: 102, 1980: 111, 1981: 139, 1982: 233, 1983: 232, 1984: 321, 1985: 444, 1986: 450, 1987: 567, 1988: 535, 1989: 740, 1990: 1083, 1991: 1326, 1992: 1590, 1993: 1526, 1994: 2298, 1995: 2361, 1996: 2805, 1997: 4009, 1998: 4731, 1999: 5918, 1872: 2, 2001: 6196, 2002: 9204, 2003: 8540, 2004: 7082, 2005: 6516, 2006: 6305, 2007: 6054, 2008: 5090, 1885: 10, 1887: 2, 1888: 2, 1889: 2, 1892: 2, 1893: 2, 1894: 6, 1895: 2, 1896: 4, 1897: 6, 1898: 2, 1901: 2, 1902: 4, 1853: 12, 1907: 2, 1875: 2, 1911: 2, 1912: 4, 1914: 2, 1915: 4}), (u'assembly language', {1928: 8, 1929: 8, 1946: 56, 1951: 8, 1955: 4, 1958: 16, 1959: 8, 1960: 4, 1961: 108, 1962: 150, 1963: 234, 1964: 209, 1965: 345, 1966: 591, 1967: 766, 1968: 1090, 1969: 1584, 1970: 1563, 1971: 1715, 1972: 1795, 1973: 1832, 1974: 1588, 1975: 2073, 1976: 2178, 1977: 2488, 1978: 2660, 1979: 3006, 1980: 3055, 1981: 3506, 1982: 4445, 1983: 5348, 1984: 7652, 1985: 7499, 1986: 7698, 1987: 7345, 1988: 7084, 1989: 6194, 1990: 7342, 1991: 6142, 1992: 7052, 1993: 4871, 1994: 5258, 1995: 4421, 1996: 3964, 1997: 3818, 1998: 3681, 1999: 4382, 2000: 4366, 2001: 3887, 2002: 5727, 2003: 5746, 2004: 5087, 2005: 5053, 2006: 4269, 2007: 4364, 2008: 4436, 1914: 4})]\n"
     ]
    }
   ],
   "source": [
    "def merge_dict(a, b):\n",
    "    for k in b:\n",
    "        a[k] = b[k]\n",
    "    return a\n",
    "\n",
    "def volume_freq_trend(dataRDD):\n",
    "    topic_to_yr_vol = (dataRDD\n",
    "                       .map(lambda x: (x[0][0], {x[0][1]: x[1]}))\n",
    "                       .reduceByKey(merge_dict)                       \n",
    "                      )\n",
    "    return topic_to_yr_vol\n",
    "\n",
    "volTrendRDD = volume_freq_trend(volFreqRDD)\n",
    "print volTrendRDD.take(3)"
   ]
  },
  {
   "cell_type": "markdown",
   "metadata": {},
   "source": [
    "## Similarity in Volume Frequency between Topic Pairs"
   ]
  },
  {
   "cell_type": "markdown",
   "metadata": {},
   "source": [
    "### Compute Dissimilarity or Similarity"
   ]
  },
  {
   "cell_type": "code",
   "execution_count": 5,
   "metadata": {
    "collapsed": true
   },
   "outputs": [],
   "source": [
    "def distance_l1(x, y):\n",
    "    \"\"\"\n",
    "    Input: x, y - dictionary\n",
    "    Output: L1-distance between x, y\n",
    "    \"\"\"\n",
    "    dist = 0\n",
    "    keys = set(x).union(set(y))\n",
    "    for k in keys:\n",
    "        v1 = 0 if k not in x else x[k]\n",
    "        v2 = 0 if k not in y else y[k]\n",
    "        dist += abs(v1 - v2)\n",
    "    return dist * 1.0 / len(keys)\n",
    "\n",
    "def distance_l2(x, y):\n",
    "    \"\"\"\n",
    "    Input: x, y - dictionary\n",
    "    Output: L2-distance between x, y\n",
    "    \"\"\"\n",
    "    dist = 0\n",
    "    keys = set(x).union(set(y))\n",
    "    for k in keys:\n",
    "        v1 = 0 if k not in x else x[k]\n",
    "        v2 = 0 if k not in y else y[k]\n",
    "        dist += (v1 - v2) * (v1 - v2)\n",
    "    return math.sqrt(dist * 1.0 / len(keys))\n",
    "\n",
    "def dot_product(x, y):\n",
    "    res = 0\n",
    "    for k in x:\n",
    "        if k in y:\n",
    "            res += x[k] * y[k]\n",
    "    return res\n",
    "        \n",
    "\n",
    "def cosine_similarity(x, y):\n",
    "    \"\"\"\n",
    "    Input: x, y - dictionary\n",
    "    Output: Cosine similarity between x, y\n",
    "    \"\"\"\n",
    "    norm_x = math.sqrt(dot_product(x, x))\n",
    "    norm_y = math.sqrt(dot_product(y, y))\n",
    "    return dot_product(x, y) * 1.0 / norm_x / norm_y"
   ]
  },
  {
   "cell_type": "code",
   "execution_count": 6,
   "metadata": {
    "collapsed": true
   },
   "outputs": [],
   "source": [
    "def pair_comparison(pairsRDD, compare_func):\n",
    "    pairs_dist = (pairsRDD\n",
    "                  .filter(lambda ((t1, c1), (t2, c2)): t1 < t2)\n",
    "                  .map(lambda ((t1, c1), (t2, c2)): ((t1, t2), compare_func(c1, c2)))\n",
    "                 )\n",
    "    return pairs_dist\n",
    "\n",
    "\n",
    "def print_result(result, num=10):\n",
    "    \"\"\"\n",
    "    Print top \"num\" results\n",
    "    \"\"\"\n",
    "    for i in range(num):\n",
    "        temp = result[i]\n",
    "        print '{}\\t\\t{}\\t\\t{}'.format(temp[0][0], temp[0][1], temp[1])\n",
    "        \n",
    "def select_result(result, num=20):\n",
    "    \"\"\"\n",
    "    Print selected records,\n",
    "    so that a topic word only appears once in the printed result\n",
    "    \"\"\"\n",
    "    topics = {}\n",
    "    ret = []\n",
    "    \n",
    "    for rec in result:\n",
    "        (t1, t2), c = rec\n",
    "        \n",
    "        if t1 not in topics and t2 not in topics:\n",
    "            topics[t1] = [t2, c]\n",
    "            topics[t2] = []\n",
    "        else:\n",
    "            continue\n",
    "        \n",
    "        if len(topics) >= num:\n",
    "            break\n",
    "    \n",
    "    for t1, li in topics.items():\n",
    "        if li == []:\n",
    "            continue\n",
    "        print '{}\\t\\t{}\\t\\t{}'.format(t1, li[0], li[1])\n",
    "        \n",
    "        ret.append((t1, li[0]))\n",
    "        \n",
    "    return ret\n",
    "        \n",
    "        \n",
    "\n",
    "all_pairs = volTrendRDD.cartesian(volTrendRDD)"
   ]
  },
  {
   "cell_type": "markdown",
   "metadata": {},
   "source": [
    "## L1-Distance"
   ]
  },
  {
   "cell_type": "code",
   "execution_count": 7,
   "metadata": {
    "collapsed": false
   },
   "outputs": [
    {
     "name": "stdout",
     "output_type": "stream",
     "text": [
      "==================================================\n",
      "Top 20 records\n",
      "==================================================\n",
      "instruction selection\t\tloop interchange\t\t11.0377358491\n",
      "instruction selection\t\tloop fusion\t\t12.1132075472\n",
      "command interpreter\t\tinstruction selection\t\t12.1538461538\n",
      "casting variable\t\tcommand interpreter\t\t12.2807017544\n",
      "casting variable\t\tinstruction selection\t\t13.0\n",
      "horizontal software\t\tloop fission\t\t13.04\n",
      "command interpreter\t\thorizontal software\t\t13.3142857143\n",
      "casting variable\t\thorizontal software\t\t13.5357142857\n",
      "command interpreter\t\tloop interchange\t\t13.675\n",
      "loop fusion\t\tloop interchange\t\t13.8684210526\n",
      "casting variable\t\tloop interchange\t\t15.2105263158\n",
      "binary compatible\t\tloop interchange\t\t15.5\n",
      "casting variable\t\tloop fission\t\t16.0714285714\n",
      "binary compatible\t\tinstruction selection\t\t16.68\n",
      "horizontal software\t\tinstruction selection\t\t16.72\n",
      "binary compatible\t\tloop fusion\t\t17.2972972973\n",
      "casting variable\t\tloop fusion\t\t18.2857142857\n",
      "binary compatible\t\tcasting variable\t\t19.0714285714\n",
      "instruction selection\t\tloop fission\t\t19.88\n",
      "command interpreter\t\tloop fission\t\t20.2857142857\n"
     ]
    }
   ],
   "source": [
    "dist_l1 = pair_comparison(all_pairs, distance_l1)\n",
    "dist_l1_list = dist_l1.collect()\n",
    "dist_l1_list.sort(key=lambda x: x[1])\n",
    "\n",
    "print '='*50\n",
    "print 'Top 20 records'\n",
    "print '='*50\n",
    "print_result(dist_l1_list, 20)"
   ]
  },
  {
   "cell_type": "code",
   "execution_count": 8,
   "metadata": {
    "collapsed": false
   },
   "outputs": [
    {
     "name": "stdout",
     "output_type": "stream",
     "text": [
      "==================================================\n",
      "Selected 10 records\n",
      "==================================================\n",
      "biochemical weapon\t\tclosed source\t\t39.2222222222\n",
      "casting variable\t\tcommand interpreter\t\t12.2807017544\n",
      "cloud computing\t\tcooperative multitask\t\t87.9090909091\n",
      "binding time\t\tname binding\t\t31.4466019417\n",
      "horizontal software\t\tloop fission\t\t13.04\n",
      "computer science\t\tinstruction set\t\t115.287292818\n",
      "binary compatible\t\tloop fusion\t\t17.2972972973\n",
      "data science\t\tinternal command\t\t42.9666666667\n",
      "commercial software\t\tconfiguration management\t\t93.1886792453\n",
      "instruction selection\t\tloop interchange\t\t11.0377358491\n"
     ]
    }
   ],
   "source": [
    "print '='*50\n",
    "print 'Selected 10 records'\n",
    "print '='*50\n",
    "l1_selected = select_result(dist_l1_list, 20)"
   ]
  },
  {
   "cell_type": "markdown",
   "metadata": {},
   "source": [
    "## L2-Distance"
   ]
  },
  {
   "cell_type": "code",
   "execution_count": 9,
   "metadata": {
    "collapsed": false
   },
   "outputs": [
    {
     "name": "stdout",
     "output_type": "stream",
     "text": [
      "==================================================\n",
      "Top 20 records\n",
      "==================================================\n",
      "horizontal software\t\tloop fission\t\t15.2367975638\n",
      "casting variable\t\tcommand interpreter\t\t16.0065775953\n",
      "instruction selection\t\tloop interchange\t\t16.7495423762\n",
      "command interpreter\t\thorizontal software\t\t17.7345506206\n",
      "command interpreter\t\tloop interchange\t\t17.9115884276\n",
      "instruction selection\t\tloop fusion\t\t18.0083837918\n",
      "casting variable\t\thorizontal software\t\t19.1516504324\n",
      "casting variable\t\tinstruction selection\t\t19.6501662145\n",
      "command interpreter\t\tinstruction selection\t\t20.2142371762\n",
      "casting variable\t\tloop interchange\t\t20.5678167952\n",
      "binary compatible\t\tloop interchange\t\t20.9558359133\n",
      "casting variable\t\tloop fission\t\t21.718984454\n",
      "loop fusion\t\tloop interchange\t\t22.7879238564\n",
      "binary compatible\t\tinstruction selection\t\t23.4614577552\n",
      "command interpreter\t\tloop fission\t\t24.1448012742\n",
      "binary compatible\t\tloop fusion\t\t25.7713438175\n",
      "binary compatible\t\tcasting variable\t\t25.846386871\n",
      "binary compatible\t\tcommand interpreter\t\t26.5362286049\n",
      "casting variable\t\tloop fusion\t\t28.1424945589\n",
      "horizontal software\t\tinstruction selection\t\t28.1481793372\n"
     ]
    }
   ],
   "source": [
    "dist_l2 = pair_comparison(all_pairs, distance_l2)\n",
    "dist_l2_list = dist_l2.collect()\n",
    "dist_l2_list.sort(key=lambda x: x[1])\n",
    "\n",
    "print '='*50\n",
    "print 'Top 20 records'\n",
    "print '='*50\n",
    "print_result(dist_l2_list, 20)"
   ]
  },
  {
   "cell_type": "code",
   "execution_count": 10,
   "metadata": {
    "collapsed": false
   },
   "outputs": [
    {
     "name": "stdout",
     "output_type": "stream",
     "text": [
      "==================================================\n",
      "Selected 10 records\n",
      "==================================================\n",
      "biochemical weapon\t\tclosed source\t\t85.5167890658\n",
      "homogeneous system\t\tinterface standard\t\t251.864864917\n",
      "data science\t\tinternal command\t\t83.4471888881\n",
      "casting variable\t\tcommand interpreter\t\t16.0065775953\n",
      "cloud computing\t\tcooperative multitask\t\t131.88976113\n",
      "binding time\t\tname binding\t\t52.5989589767\n",
      "horizontal software\t\tloop fission\t\t15.2367975638\n",
      "binary compatible\t\tloop fusion\t\t25.7713438175\n",
      "commercial software\t\tconfiguration management\t\t143.51825865\n",
      "instruction selection\t\tloop interchange\t\t16.7495423762\n"
     ]
    }
   ],
   "source": [
    "print '='*50\n",
    "print 'Selected 10 records'\n",
    "print '='*50\n",
    "l2_selected = select_result(dist_l2_list, 20)"
   ]
  },
  {
   "cell_type": "markdown",
   "metadata": {},
   "source": [
    "## Cosine Similarity"
   ]
  },
  {
   "cell_type": "code",
   "execution_count": 11,
   "metadata": {
    "collapsed": false
   },
   "outputs": [
    {
     "name": "stdout",
     "output_type": "stream",
     "text": [
      "==================================================\n",
      "Top 20 records\n",
      "==================================================\n",
      "cloud computing\t\topen source\t\t0.998141344374\n",
      "distributed system\t\theavy metal\t\t0.996625633961\n",
      "artificial intelligence\t\tbinary tree\t\t0.996427982536\n",
      "computer science\t\tnatural language\t\t0.995983802028\n",
      "artificial intelligence\t\tknowledge representation\t\t0.995314347629\n",
      "commercial software\t\tconfiguration management\t\t0.995063519259\n",
      "data mining\t\tquantum computing\t\t0.994920094839\n",
      "distributed system\t\tnatural language\t\t0.994188456631\n",
      "instruction set\t\tobject code\t\t0.994126884516\n",
      "artificial intelligence\t\tcomputer graphic\t\t0.993944682956\n",
      "data compression\t\tinterface standard\t\t0.993361280302\n",
      "heavy metal\t\tquestion answering\t\t0.993347122388\n",
      "baby boom\t\tcommercial software\t\t0.993085675941\n",
      "commercial software\t\tinformation technology\t\t0.993065143291\n",
      "college education\t\tquestion answering\t\t0.992785224667\n",
      "natural language\t\tnuclear weapon\t\t0.992488333364\n",
      "instruction set\t\tintegrated circuit\t\t0.992062709546\n",
      "amplitude modulation\t\tcommunist party\t\t0.991989383075\n",
      "database server\t\tobject model\t\t0.991865794968\n",
      "heavy metal\t\tnatural language\t\t0.99133361271\n"
     ]
    }
   ],
   "source": [
    "cossim = pair_comparison(all_pairs, cosine_similarity)\n",
    "cossim_list = cossim.collect()\n",
    "cossim_list.sort(key=lambda x: x[1], reverse=True)\n",
    "\n",
    "print '='*50\n",
    "print 'Top 20 records'\n",
    "print '='*50\n",
    "print_result(cossim_list, 20)"
   ]
  },
  {
   "cell_type": "code",
   "execution_count": 12,
   "metadata": {
    "collapsed": false
   },
   "outputs": [
    {
     "name": "stdout",
     "output_type": "stream",
     "text": [
      "==================================================\n",
      "Selected 10 records\n",
      "==================================================\n",
      "data compression\t\tinterface standard\t\t0.993361280302\n",
      "college education\t\tquestion answering\t\t0.992785224667\n",
      "cloud computing\t\topen source\t\t0.998141344374\n",
      "data mining\t\tquantum computing\t\t0.994920094839\n",
      "instruction set\t\tobject code\t\t0.994126884516\n",
      "commercial software\t\tconfiguration management\t\t0.995063519259\n",
      "computer science\t\tnatural language\t\t0.995983802028\n",
      "distributed system\t\theavy metal\t\t0.996625633961\n",
      "amplitude modulation\t\tcommunist party\t\t0.991989383075\n",
      "artificial intelligence\t\tbinary tree\t\t0.996427982536\n"
     ]
    }
   ],
   "source": [
    "print '='*50\n",
    "print 'Selected 10 records'\n",
    "print '='*50\n",
    "cossim_selected = select_result(cossim_list, 20)"
   ]
  },
  {
   "cell_type": "markdown",
   "metadata": {},
   "source": [
    "## Visualization"
   ]
  },
  {
   "cell_type": "code",
   "execution_count": null,
   "metadata": {
    "collapsed": true
   },
   "outputs": [],
   "source": []
  }
 ],
 "metadata": {
  "kernelspec": {
   "display_name": "Python 2",
   "language": "python",
   "name": "python2"
  },
  "language_info": {
   "codemirror_mode": {
    "name": "ipython",
    "version": 2
   },
   "file_extension": ".py",
   "mimetype": "text/x-python",
   "name": "python",
   "nbconvert_exporter": "python",
   "pygments_lexer": "ipython2",
   "version": "2.7.6"
  }
 },
 "nbformat": 4,
 "nbformat_minor": 0
}

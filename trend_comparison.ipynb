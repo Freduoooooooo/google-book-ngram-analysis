{
 "cells": [
  {
   "cell_type": "markdown",
   "metadata": {},
   "source": [
    "# Trend Comparison\n",
    "\n",
    "This notebook analyzes similarity in trends between pairs of topics."
   ]
  },
  {
   "cell_type": "code",
   "execution_count": 9,
   "metadata": {
    "collapsed": true
   },
   "outputs": [],
   "source": [
    "import sys\n",
    "import os\n",
    "import pyspark\n",
    "import math\n",
    "from operator import add"
   ]
  },
  {
   "cell_type": "markdown",
   "metadata": {},
   "source": [
    "## Load Dataset"
   ]
  },
  {
   "cell_type": "code",
   "execution_count": 17,
   "metadata": {
    "collapsed": false
   },
   "outputs": [
    {
     "name": "stdout",
     "output_type": "stream",
     "text": [
      "Topic: topic1. Tag: 0,0. Year: 1995. Page count: 1. Volume count: 1\n",
      "Topic: topic1. Tag: 0,0. Year: 1995. Page count: 1. Volume count: 3\n",
      "Topic: topic1. Tag: 0,0. Year: 1996. Page count: 1. Volume count: 3\n",
      "Topic: topic2. Tag: 0,0. Year: 1995. Page count: 1. Volume count: 3\n"
     ]
    }
   ],
   "source": [
    "# data = load_data()\n",
    "dataRDD = sc.parallelize([['topic1', [0, 0], 1995, 1, 1],\n",
    "                          ['topic1', [0, 0], 1995, 1, 3],\n",
    "                          ['topic1', [0, 0], 1996, 1, 3],\n",
    "                          ['topic2', [0, 0], 1995, 1, 3]\n",
    "                         ])\n",
    "\n",
    "for line in dataRDD.collect():\n",
    "    print 'Topic: {}. Tag: {},{}. Year: {}. Page count: {}. Volume count: {}'.format(\n",
    "        line[0], line[1][0], line[1][1], line[2], line[3], line[4])"
   ]
  },
  {
   "cell_type": "markdown",
   "metadata": {},
   "source": [
    "## Volume Frequency over Years"
   ]
  },
  {
   "cell_type": "code",
   "execution_count": 23,
   "metadata": {
    "collapsed": false
   },
   "outputs": [
    {
     "name": "stdout",
     "output_type": "stream",
     "text": [
      "[(('topic1', 1995), 4), (('topic2', 1995), 3), (('topic1', 1996), 3)]\n"
     ]
    }
   ],
   "source": [
    "def volume_freq(dataRDD):\n",
    "    topic_yr_to_nvol = (dataRDD\n",
    "                        .map(lambda x: ((x[0], x[2]), x[4]))\n",
    "                        .reduceByKey(add)\n",
    "                       )\n",
    "    return topic_yr_to_nvol\n",
    "\n",
    "volFreqRDD = volume_freq(dataRDD)\n",
    "print volFreqRDD.collect()"
   ]
  },
  {
   "cell_type": "code",
   "execution_count": 33,
   "metadata": {
    "collapsed": false
   },
   "outputs": [
    {
     "name": "stdout",
     "output_type": "stream",
     "text": [
      "[('topic1', <pyspark.resultiterable.ResultIterable object at 0xb0ecf36c>), ('topic2', <pyspark.resultiterable.ResultIterable object at 0xb0ecf38c>)]\n"
     ]
    }
   ],
   "source": [
    "def volume_freq_trend(dataRDD):\n",
    "    topic_to_yr_vol = (dataRDD\n",
    "                       .map(lambda x: (x[0][0], {x[0][1]: x[1]}))\n",
    "                       .groupByKey()                       \n",
    "                      )\n",
    "    return topic_to_yr_vol\n",
    "\n",
    "volTrendRDD = volume_freq_trend(volFreqRDD)\n",
    "print volTrendRDD.collect()"
   ]
  },
  {
   "cell_type": "markdown",
   "metadata": {},
   "source": [
    "## Similarity in Volume Frequency between Topic Pairs"
   ]
  },
  {
   "cell_type": "code",
   "execution_count": null,
   "metadata": {
    "collapsed": true
   },
   "outputs": [],
   "source": [
    "def distance_l1(x, y):\n",
    "    \"\"\"\n",
    "    Input: x, y - dictionary\n",
    "    Output: L1-distance between x, y\n",
    "    \"\"\"\n",
    "    dist = 0\n",
    "    keys = set(x).union(set(y))\n",
    "    for k in keys:\n",
    "        v1 = 0 if k not in x else x[k]\n",
    "        v2 = 0 if k not in y else y[k]\n",
    "        dist += abs(v1 - v2)\n",
    "    return dist * 1.0 / len(keys)\n",
    "\n",
    "def distance_l2(x, y):\n",
    "    \"\"\"\n",
    "    Input: x, y - dictionary\n",
    "    Output: L2-distance between x, y\n",
    "    \"\"\"\n",
    "    dist = 0\n",
    "    keys = set(x).union(set(y))\n",
    "    for k in keys:\n",
    "        v1 = 0 if k not in x else x[k]\n",
    "        v2 = 0 if k not in y else y[k]\n",
    "        dist += (v1 - v2) * (v1 - v2)\n",
    "    return math.sqrt(dist * 1.0 / len(keys))\n",
    "\n",
    "def dot_product(x, y):\n",
    "    res = 0\n",
    "    for k in x:\n",
    "        if k in y:\n",
    "            res += x[k] * y[k]\n",
    "    return res\n",
    "        \n",
    "\n",
    "def cosine_similarity(x, y):\n",
    "    \"\"\"\n",
    "    Input: x, y - dictionary\n",
    "    Output: Cosine similarity between x, y\n",
    "    \"\"\"\n",
    "    norm_x = math.sqrt(dot_product(x, x))\n",
    "    norm_y = math.sqrt(dot_product(y, y))\n",
    "    return dot_product(x, y) * 1.0 / norm_x / norm_y"
   ]
  },
  {
   "cell_type": "code",
   "execution_count": null,
   "metadata": {
    "collapsed": true
   },
   "outputs": [],
   "source": [
    "def pair_distance_l1(dataRDD):\n",
    "    pass"
   ]
  },
  {
   "cell_type": "markdown",
   "metadata": {},
   "source": [
    "## Visualization"
   ]
  },
  {
   "cell_type": "code",
   "execution_count": null,
   "metadata": {
    "collapsed": true
   },
   "outputs": [],
   "source": []
  }
 ],
 "metadata": {
  "kernelspec": {
   "display_name": "Python 2",
   "language": "python",
   "name": "python2"
  },
  "language_info": {
   "codemirror_mode": {
    "name": "ipython",
    "version": 2
   },
   "file_extension": ".py",
   "mimetype": "text/x-python",
   "name": "python",
   "nbconvert_exporter": "python",
   "pygments_lexer": "ipython2",
   "version": "2.7.6"
  }
 },
 "nbformat": 4,
 "nbformat_minor": 0
}
